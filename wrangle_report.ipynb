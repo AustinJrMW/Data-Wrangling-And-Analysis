{
 "cells": [
  {
   "cell_type": "markdown",
   "metadata": {},
   "source": [
    "## Reporting: wragle_report\n",
    "* Create a **300-600 word written report** called \"wrangle_report.pdf\" or \"wrangle_report.html\" that briefly describes your wrangling efforts. This is to be framed as an internal document."
   ]
  },
  {
   "cell_type": "markdown",
   "metadata": {},
   "source": [
    "I started with a csv file (twitter enhanced archive), programtically downloaded source (tweet image prediction) and tweepy api (tweet josn). I pulled each source and loaded them into their own dataframe, i used read_csv function to iterate over all entries. Intrepreting comma sepreated values, table sepreated values and json. For the tsv,I created a folder to store and then defined the url request to collect the data for the image prediction. From there it was written into a tab separated value and then i used a read_csv function to load it into a dataframe. For the json, we used the json package to create a list and then run a for loop to enter the key and index pairs into a dataframe.\n",
    "\n",
    "From there, I began to assess the dataframe for issues. I first led with visual assessment, I opened all the spreadsheets within excel just to get an overview of what problems may be present. From my visual assessment, i identified that the names column held lower case incorrect name values and non name values. The numerator column holds values that don't fall in the 10 and above range for dog rate values, as well as the denominator column has some values that aren't 10. From programatic assessment i was able to identify that there were about 20 columns between the three columns that were irrelevant to the final analysis and visualizations. The seperate dog stages column aren't holding accurate values from the text column, they needed to be reexamined to get all the proper values. In the tweet image dataframe, the most confident prediction and breed name should be taken. Also, the datatypes for a few columns were not adequate for the vaules that were held in it. This includes: the combined dog stage column and timestamp. The three tweet id columns in the three dataframe should be combined since its redundant for them to be repeated across the dataframe.\n",
    "\n",
    "I started by repliicated the dataframes so that I could do cleaning on them. I first dropped the 15 columns from the tweets dataframe and then i dropped the 5 columns from the twitter archive dataframe. Then I removed all the entries with a RT tag in the twitter archive `text` column. From their I dropped the id_str column from the tweets dataframe and then dropped all entries with `TRUE` values in the retweeted column. I then merged the tweets dataframe and the twitter archive dataframe on the `tweet_id` column. I then corrected the incorrect dog stage entries in the sepreate dog stage columns using a regex statement to pull the viable dog stage strings from the text column. For the sepreate dog columns, i would use a function to identify and create a single column that holds the dog stage for each record. For the incorrect ratings, i used a regex statement to pull all the proper values from the text colmn in th dataframe and then change the numerator column into a integer datatype. I used another regex statement to replace all incorrect name values to the correct ones in the text column if available, for those that were not available i designated them none. I then changed the datatypr for time stamp to datetime and dropped the timezone to make it date time format. The merged dog stage column was changed to category datatype. Finally, i created a for loop to identify the dog breed with the highest confidence value and the corresponding dog breed. I then merged the final result with the merged dataframe from before to create a consolidated dataframe. This was written into a master csv."
   ]
  }
 ],
 "metadata": {
  "kernelspec": {
   "display_name": "Python 3",
   "language": "python",
   "name": "python3"
  },
  "language_info": {
   "codemirror_mode": {
    "name": "ipython",
    "version": 3
   },
   "file_extension": ".py",
   "mimetype": "text/x-python",
   "name": "python",
   "nbconvert_exporter": "python",
   "pygments_lexer": "ipython3",
   "version": "3.6.3"
  }
 },
 "nbformat": 4,
 "nbformat_minor": 2
}
